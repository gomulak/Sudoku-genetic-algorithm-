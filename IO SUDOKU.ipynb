{
 "cells": [
  {
   "cell_type": "markdown",
   "id": "bd1822b1",
   "metadata": {},
   "source": [
    "Importing necessery libraries"
   ]
  },
  {
   "cell_type": "code",
   "execution_count": 1,
   "id": "21184eab",
   "metadata": {},
   "outputs": [
    {
     "name": "stdout",
     "output_type": "stream",
     "text": [
      "Requirement already satisfied: pygad in c:\\users\\ola gomulak\\anaconda3\\anaconda\\lib\\site-packages (2.19.2)\n",
      "Requirement already satisfied: cloudpickle in c:\\users\\ola gomulak\\anaconda3\\anaconda\\lib\\site-packages (from pygad) (2.0.0)\n",
      "Requirement already satisfied: matplotlib in c:\\users\\ola gomulak\\anaconda3\\anaconda\\lib\\site-packages (from pygad) (3.7.0)\n",
      "Requirement already satisfied: numpy in c:\\users\\ola gomulak\\anaconda3\\anaconda\\lib\\site-packages (from pygad) (1.23.5)\n",
      "Requirement already satisfied: cycler>=0.10 in c:\\users\\ola gomulak\\anaconda3\\anaconda\\lib\\site-packages (from matplotlib->pygad) (0.11.0)\n",
      "Requirement already satisfied: kiwisolver>=1.0.1 in c:\\users\\ola gomulak\\anaconda3\\anaconda\\lib\\site-packages (from matplotlib->pygad) (1.4.4)\n",
      "Requirement already satisfied: contourpy>=1.0.1 in c:\\users\\ola gomulak\\anaconda3\\anaconda\\lib\\site-packages (from matplotlib->pygad) (1.0.5)\n",
      "Requirement already satisfied: python-dateutil>=2.7 in c:\\users\\ola gomulak\\anaconda3\\anaconda\\lib\\site-packages (from matplotlib->pygad) (2.8.2)\n",
      "Requirement already satisfied: packaging>=20.0 in c:\\users\\ola gomulak\\anaconda3\\anaconda\\lib\\site-packages (from matplotlib->pygad) (22.0)\n",
      "Requirement already satisfied: pillow>=6.2.0 in c:\\users\\ola gomulak\\anaconda3\\anaconda\\lib\\site-packages (from matplotlib->pygad) (9.4.0)\n",
      "Requirement already satisfied: pyparsing>=2.3.1 in c:\\users\\ola gomulak\\anaconda3\\anaconda\\lib\\site-packages (from matplotlib->pygad) (3.0.9)\n",
      "Requirement already satisfied: fonttools>=4.22.0 in c:\\users\\ola gomulak\\anaconda3\\anaconda\\lib\\site-packages (from matplotlib->pygad) (4.25.0)\n",
      "Requirement already satisfied: six>=1.5 in c:\\users\\ola gomulak\\anaconda3\\anaconda\\lib\\site-packages (from python-dateutil>=2.7->matplotlib->pygad) (1.16.0)\n",
      "Note: you may need to restart the kernel to use updated packages.\n"
     ]
    }
   ],
   "source": [
    "pip install pygad"
   ]
  },
  {
   "cell_type": "code",
   "execution_count": 2,
   "id": "30f49550",
   "metadata": {},
   "outputs": [],
   "source": [
    "import numpy as np\n",
    "import pygad\n",
    "import time\n",
    "import random\n",
    "import pandas as pd\n",
    "import matplotlib.pyplot as plt"
   ]
  },
  {
   "cell_type": "markdown",
   "id": "7df869d8",
   "metadata": {},
   "source": [
    "# BOARD PREPARATION"
   ]
  },
  {
   "cell_type": "markdown",
   "id": "1755d321",
   "metadata": {},
   "source": [
    "Board will be obviously 9x9. I will fill every space with 0 for now."
   ]
  },
  {
   "cell_type": "code",
   "execution_count": 3,
   "id": "a7ffb542",
   "metadata": {},
   "outputs": [
    {
     "name": "stdout",
     "output_type": "stream",
     "text": [
      "[[0 0 0 0 0 0 0 0 0]\n",
      " [0 0 0 0 0 0 0 0 0]\n",
      " [0 0 0 0 0 0 0 0 0]\n",
      " [0 0 0 0 0 0 0 0 0]\n",
      " [0 0 0 0 0 0 0 0 0]\n",
      " [0 0 0 0 0 0 0 0 0]\n",
      " [0 0 0 0 0 0 0 0 0]\n",
      " [0 0 0 0 0 0 0 0 0]\n",
      " [0 0 0 0 0 0 0 0 0]]\n"
     ]
    }
   ],
   "source": [
    "empty = np.zeros(shape=(9,9), dtype=int)\n",
    "print(empty)"
   ]
  },
  {
   "cell_type": "markdown",
   "id": "0bdf1ae6",
   "metadata": {},
   "source": [
    "As seen above, it doesn't really look like your typical Sudoku board. Mainly it lacks 3x3 separation."
   ]
  },
  {
   "cell_type": "code",
   "execution_count": 4,
   "id": "189b0cd7",
   "metadata": {},
   "outputs": [],
   "source": [
    "def pretty_board(board):\n",
    "    #'assert' allows to make certain assumptions    \n",
    "    assert board.shape == (9, 9)  #board is a 9x9 square\n",
    "    assert type(board) == np.ndarray #ndarray is multi-dimentional array\n",
    "    \n",
    "    board_string = board.astype(str) #converting values to string\n",
    "    \n",
    "    #I want rows to be separated by '-'\n",
    "    #By trail and error, I came into a conclusion that 25 dashes is a perfect number for board to look most visually pleasing\n",
    "    row_separator = '-'*25\n",
    "\n",
    "    for i in range(9):\n",
    "        \n",
    "        #After every three rows, there should be '-' separator\n",
    "        if i % 3 == 0:\n",
    "            print(row_separator)\n",
    "\n",
    "        row = board_string[i]\n",
    "        \n",
    "        #For every row, '|' separator is added after every third value\n",
    "        print('| '+' '.join(row[0:3])+' | '+' '.join(row[3:6])+' | '+' '.join(row[6:])+' |')\n",
    "\n",
    "    print(row_separator)\n",
    "    "
   ]
  },
  {
   "cell_type": "markdown",
   "id": "8fa33e88",
   "metadata": {},
   "source": [
    "# PREPARING INPUTS"
   ]
  },
  {
   "cell_type": "markdown",
   "id": "59f9713f",
   "metadata": {},
   "source": [
    "Easy level"
   ]
  },
  {
   "cell_type": "markdown",
   "id": "f63ff048",
   "metadata": {},
   "source": [
    "The difference between each level is number of missing values."
   ]
  },
  {
   "cell_type": "code",
   "execution_count": 5,
   "id": "6e20fd0b",
   "metadata": {},
   "outputs": [
    {
     "name": "stdout",
     "output_type": "stream",
     "text": [
      "-------------------------\n",
      "| 0 2 0 | 4 5 6 | 7 8 9 |\n",
      "| 4 5 7 | 0 8 0 | 2 3 6 |\n",
      "| 6 8 9 | 2 3 7 | 0 4 0 |\n",
      "-------------------------\n",
      "| 0 0 5 | 3 6 2 | 9 7 4 |\n",
      "| 2 7 4 | 0 9 0 | 6 5 3 |\n",
      "| 3 9 6 | 5 7 4 | 8 0 0 |\n",
      "-------------------------\n",
      "| 0 4 0 | 6 1 8 | 3 9 7 |\n",
      "| 7 6 1 | 0 4 0 | 5 2 8 |\n",
      "| 9 3 8 | 7 2 5 | 0 6 0 |\n",
      "-------------------------\n"
     ]
    }
   ],
   "source": [
    "#Making a copy of empty board\n",
    "board_easy1 = empty.copy()\n",
    "\n",
    "#Filling in known values\n",
    "board_easy1[0, :] = [0, 2, 0, 4, 5, 6, 7, 8, 9]\n",
    "board_easy1[1, :] = [4, 5, 7, 0, 8, 0, 2, 3, 6]\n",
    "board_easy1[2, :] = [6, 8, 9, 2, 3, 7, 0, 4, 0]\n",
    "board_easy1[3, :] = [0, 0, 5, 3, 6, 2, 9, 7, 4]\n",
    "board_easy1[4, :] = [2, 7, 4, 0, 9, 0, 6, 5, 3]\n",
    "board_easy1[5, :] = [3, 9, 6, 5, 7, 4, 8, 0, 0]\n",
    "board_easy1[6, :] = [0, 4, 0, 6, 1, 8, 3, 9, 7]\n",
    "board_easy1[7, :] = [7, 6, 1, 0, 4, 0, 5, 2, 8]\n",
    "board_easy1[8, :] = [9, 3, 8, 7, 2, 5, 0, 6, 0]\n",
    "\n",
    "pretty_board(board_easy1)\n",
    "\n",
    "#source: https://sudokuessentials.com/sudoku_for_kids/\n",
    "\n",
    "correct_easy1 = [1, 3, 1, 9, 1, 5, 8, 1, 8, 1, 1, 2, 5, 2, 9, 3, 4, 1]\n",
    "\n",
    "#no. of missing values: 18."
   ]
  },
  {
   "cell_type": "code",
   "execution_count": 6,
   "id": "5911066e",
   "metadata": {},
   "outputs": [
    {
     "name": "stdout",
     "output_type": "stream",
     "text": [
      "-------------------------\n",
      "| 5 0 0 | 4 6 7 | 3 0 9 |\n",
      "| 9 0 3 | 8 1 0 | 4 2 7 |\n",
      "| 1 7 4 | 2 0 3 | 0 0 0 |\n",
      "-------------------------\n",
      "| 2 3 1 | 9 7 6 | 8 5 4 |\n",
      "| 8 5 7 | 1 2 4 | 0 9 0 |\n",
      "| 4 9 6 | 3 0 8 | 1 7 2 |\n",
      "-------------------------\n",
      "| 0 0 0 | 0 8 9 | 2 6 0 |\n",
      "| 7 8 2 | 6 4 1 | 0 0 5 |\n",
      "| 0 1 0 | 0 0 0 | 7 0 8 |\n",
      "-------------------------\n"
     ]
    }
   ],
   "source": [
    "board_easy2 = empty.copy()\n",
    "\n",
    "board_easy2[0, :] = [5, 0, 0, 4, 6, 7, 3, 0, 9]\n",
    "board_easy2[1, :] = [9, 0, 3, 8, 1, 0, 4, 2, 7]\n",
    "board_easy2[2, :] = [1, 7, 4, 2, 0, 3, 0, 0, 0]\n",
    "board_easy2[3, :] = [2, 3, 1, 9, 7, 6, 8, 5, 4]\n",
    "board_easy2[4, :] = [8, 5, 7, 1, 2, 4, 0, 9, 0]\n",
    "board_easy2[5, :] = [4, 9, 6, 3, 0, 8, 1, 7, 2]\n",
    "board_easy2[6, :] = [0, 0, 0, 0, 8, 9, 2, 6, 0]\n",
    "board_easy2[7, :] = [7, 8, 2, 6, 4, 1, 0, 0, 5]\n",
    "board_easy2[8, :] = [0, 1, 0, 0, 0, 0, 7, 0, 8]\n",
    "\n",
    "pretty_board(board_easy2)\n",
    "\n",
    "#source: https://www.puzzles-to-print.com/printable-sudokus/easy-beginner-sudoku.shtml\n",
    "\n",
    "correct_easy2 = [2, 8, 1, 6, 5, 9, 5, 8, 6, 6, 3, 5, 3, 4, 5, 7, 1, 9, 3, 6, 9, 5, 3, 2, 4]\n",
    "\n",
    "#no. of missing values: 25."
   ]
  },
  {
   "cell_type": "code",
   "execution_count": 7,
   "id": "894147b0",
   "metadata": {},
   "outputs": [
    {
     "name": "stdout",
     "output_type": "stream",
     "text": [
      "-------------------------\n",
      "| 3 0 2 | 9 6 4 | 8 5 1 |\n",
      "| 9 0 4 | 8 1 5 | 0 7 0 |\n",
      "| 0 0 1 | 3 7 2 | 0 9 6 |\n",
      "-------------------------\n",
      "| 0 4 0 | 1 0 9 | 0 2 8 |\n",
      "| 1 0 9 | 0 4 6 | 0 0 5 |\n",
      "| 5 2 0 | 7 0 3 | 0 1 4 |\n",
      "-------------------------\n",
      "| 2 0 8 | 6 0 1 | 5 4 7 |\n",
      "| 4 1 0 | 0 3 0 | 2 0 0 |\n",
      "| 0 0 5 | 0 0 7 | 1 0 3 |\n",
      "-------------------------\n"
     ]
    }
   ],
   "source": [
    "board_easy3 = empty.copy()\n",
    "\n",
    "board_easy3[0, :] = [3, 0, 2, 9, 6, 4, 8, 5, 1]\n",
    "board_easy3[1, :] = [9, 0, 4, 8, 1, 5, 0, 7, 0]\n",
    "board_easy3[2, :] = [0, 0, 1, 3, 7, 2, 0, 9, 6]\n",
    "board_easy3[3, :] = [0, 4, 0, 1, 0, 9, 0, 2, 8]\n",
    "board_easy3[4, :] = [1, 0, 9, 0, 4, 6, 0, 0, 5]\n",
    "board_easy3[5, :] = [5, 2, 0, 7, 0, 3, 0, 1, 4]\n",
    "board_easy3[6, :] = [2, 0, 8, 6, 0, 1, 5, 4, 7]\n",
    "board_easy3[7, :] = [4, 1, 0, 0, 3, 0, 2, 0, 0]\n",
    "board_easy3[8, :] = [0, 0, 5, 0, 0, 7, 1, 0, 3]\n",
    "\n",
    "pretty_board(board_easy3)\n",
    "\n",
    "#source: https://www.mathinenglish.com/puzzlessudoku.php?pstid=605\n",
    "\n",
    "correct_easy3 = [7, 6, 3, 2, 8, 5, 4, 7, 3, 5, 6, 8, 2, 7, 3, 6, 8, 9, 3, 9, 7, 5, 8, 6, 9, 6, 9, 4, 2, 8]\n",
    "\n",
    "#no. of missing values - 30."
   ]
  },
  {
   "cell_type": "markdown",
   "id": "4ee5231c",
   "metadata": {},
   "source": [
    "Medium level"
   ]
  },
  {
   "cell_type": "code",
   "execution_count": 8,
   "id": "6465b1b1",
   "metadata": {},
   "outputs": [
    {
     "name": "stdout",
     "output_type": "stream",
     "text": [
      "-------------------------\n",
      "| 0 1 8 | 0 0 2 | 3 0 4 |\n",
      "| 0 0 3 | 5 0 0 | 0 0 0 |\n",
      "| 5 2 4 | 8 9 0 | 0 0 0 |\n",
      "-------------------------\n",
      "| 1 0 5 | 0 7 0 | 4 0 6 |\n",
      "| 0 0 7 | 0 0 0 | 9 0 0 |\n",
      "| 2 0 9 | 0 4 0 | 5 0 8 |\n",
      "-------------------------\n",
      "| 0 0 0 | 0 8 9 | 6 4 3 |\n",
      "| 0 0 0 | 0 0 7 | 2 0 0 |\n",
      "| 3 0 1 | 6 0 0 | 7 8 0 |\n",
      "-------------------------\n"
     ]
    }
   ],
   "source": [
    "board_medium1 = empty.copy()\n",
    "\n",
    "#Wpisuję liczby\n",
    "board_medium1[0, :] = [0, 1, 8, 0, 0, 2, 3, 0, 4]\n",
    "board_medium1[1, :] = [0, 0, 3, 5, 0, 0, 0, 0, 0]\n",
    "board_medium1[2, :] = [5, 2, 4, 8, 9, 0, 0, 0, 0]\n",
    "board_medium1[3, :] = [1, 0, 5, 0, 7, 0, 4, 0, 6]\n",
    "board_medium1[4, :] = [0, 0, 7, 0, 0, 0, 9, 0, 0]\n",
    "board_medium1[5, :] = [2, 0, 9, 0, 4, 0, 5, 0, 8]\n",
    "board_medium1[6, :] = [0, 0, 0, 0, 8, 9, 6, 4, 3]\n",
    "board_medium1[7, :] = [0, 0, 0, 0, 0, 7, 2, 0, 0]\n",
    "board_medium1[8, :] = [3, 0, 1, 6, 0, 0, 7, 8, 0]\n",
    "\n",
    "pretty_board(board_medium1)\n",
    "\n",
    "#source: https://www.dreamstime.com/illustration/sudoku.html\n",
    "\n",
    "correct_medium1 = [9, 7, 6, 5, 6, 7, 1, 4, 8, 9, 2, 3, 1, 6, 7, 3, 9, 8, 2, 4, 8, 2, 5, 6, 3, 1, 6, 3, 1, 7, 7, 5, 2, 1, 8, 9, 6, 4, 3, 1, 5, 4, 2, 5, 9]\n",
    "\n",
    "#no. of missing values: 39"
   ]
  },
  {
   "cell_type": "code",
   "execution_count": 9,
   "id": "274d19af",
   "metadata": {},
   "outputs": [
    {
     "name": "stdout",
     "output_type": "stream",
     "text": [
      "-------------------------\n",
      "| 9 0 6 | 0 0 1 | 0 4 0 |\n",
      "| 7 0 1 | 2 9 0 | 0 6 0 |\n",
      "| 4 0 2 | 8 0 6 | 3 0 0 |\n",
      "-------------------------\n",
      "| 0 0 0 | 0 2 0 | 9 8 0 |\n",
      "| 6 0 0 | 0 0 0 | 0 0 2 |\n",
      "| 0 9 4 | 0 8 0 | 0 0 0 |\n",
      "-------------------------\n",
      "| 0 0 3 | 7 0 8 | 4 0 9 |\n",
      "| 0 4 0 | 0 1 3 | 7 0 6 |\n",
      "| 0 6 0 | 9 0 0 | 1 0 8 |\n",
      "-------------------------\n"
     ]
    }
   ],
   "source": [
    "board_medium2 = empty.copy()\n",
    "\n",
    "#Wpisuję liczby\n",
    "board_medium2[0, :] = [9, 0, 6, 0, 0, 1, 0, 4, 0]\n",
    "board_medium2[1, :] = [7, 0, 1, 2, 9, 0, 0, 6, 0]\n",
    "board_medium2[2, :] = [4, 0, 2, 8, 0, 6, 3, 0, 0]\n",
    "board_medium2[3, :] = [0, 0, 0, 0, 2, 0, 9, 8, 0]\n",
    "board_medium2[4, :] = [6, 0, 0, 0, 0, 0, 0, 0, 2]\n",
    "board_medium2[5, :] = [0, 9, 4, 0, 8, 0, 0, 0, 0]\n",
    "board_medium2[6, :] = [0, 0, 3, 7, 0, 8, 4, 0, 9]\n",
    "board_medium2[7, :] = [0, 4, 0, 0, 1, 3, 7, 0, 6]\n",
    "board_medium2[8, :] = [0, 6, 0, 9, 0, 0, 1, 0, 8]\n",
    "\n",
    "pretty_board(board_medium2)\n",
    "\n",
    "#source: https://www.sudokuoftheday.com/free/\n",
    "\n",
    "correct_medium2 = [8, 3, 5, 2, 7, 3, 4, 8, 5, 5, 7, 9, 1, 3, 1, 5, 6, 7, 4, 7, 8, 4, 3, 9, 5, 1, 2, 1, 5, 6, 7, 3, 1, 2, 6, 5, 8, 9, 5, 2, 5, 7, 4, 2, 3]\n",
    "\n",
    "#no. of missing values: 45\n"
   ]
  },
  {
   "cell_type": "code",
   "execution_count": 10,
   "id": "2ad1b389",
   "metadata": {},
   "outputs": [
    {
     "name": "stdout",
     "output_type": "stream",
     "text": [
      "-------------------------\n",
      "| 0 1 8 | 0 0 2 | 3 0 4 |\n",
      "| 0 0 3 | 5 0 0 | 0 0 0 |\n",
      "| 5 2 4 | 8 9 0 | 0 0 0 |\n",
      "-------------------------\n",
      "| 1 0 5 | 0 7 0 | 4 0 6 |\n",
      "| 0 0 7 | 0 0 0 | 9 0 0 |\n",
      "| 2 0 9 | 0 4 0 | 5 0 8 |\n",
      "-------------------------\n",
      "| 0 0 0 | 0 8 9 | 6 4 3 |\n",
      "| 0 0 0 | 0 0 7 | 2 0 0 |\n",
      "| 3 0 1 | 6 0 0 | 7 8 0 |\n",
      "-------------------------\n"
     ]
    }
   ],
   "source": [
    "board_medium3 = empty.copy()\n",
    "\n",
    "#Wpisuję liczby\n",
    "board_medium3[0, :] = [0, 1, 8, 0, 0, 2, 3, 0, 4]\n",
    "board_medium3[1, :] = [0, 0, 3, 5, 0, 0, 0, 0, 0]\n",
    "board_medium3[2, :] = [5, 2, 4, 8, 9, 0, 0, 0, 0]\n",
    "board_medium3[3, :] = [1, 0, 5, 0, 7, 0, 4, 0, 6]\n",
    "board_medium3[4, :] = [0, 0, 7, 0, 0, 0, 9, 0, 0]\n",
    "board_medium3[5, :] = [2, 0, 9, 0, 4, 0, 5, 0, 8]\n",
    "board_medium3[6, :] = [0, 0, 0, 0, 8, 9, 6, 4, 3]\n",
    "board_medium3[7, :] = [0, 0, 0, 0, 0, 7, 2, 0, 0]\n",
    "board_medium3[8, :] = [3, 0, 1, 6, 0, 0, 7, 8, 0]\n",
    "\n",
    "pretty_board(board_medium3)\n",
    "\n",
    "#source: https://www.sudokuoftheday.com/\n",
    "\n",
    "correct_medium3 = [9, 7, 6, 5, 6, 7, 1, 4, 8, 9, 2, 3, 1, 6, 7, 3, 9, 8, 2, 4, 8, 2, 5, 6, 3, 1, 6, 3, 1, 7, 7, 5, 2, 1, 8, 9, 6, 4, 3, 1, 5, 4, 2, 5, 9]\n",
    "\n",
    "#no. of missing values: 45"
   ]
  },
  {
   "cell_type": "markdown",
   "id": "466767c7",
   "metadata": {},
   "source": [
    "Hard level"
   ]
  },
  {
   "cell_type": "code",
   "execution_count": 11,
   "id": "69688f98",
   "metadata": {},
   "outputs": [
    {
     "name": "stdout",
     "output_type": "stream",
     "text": [
      "-------------------------\n",
      "| 0 0 4 | 8 0 5 | 7 0 6 |\n",
      "| 0 0 0 | 9 0 0 | 0 4 0 |\n",
      "| 0 2 0 | 4 0 0 | 0 0 1 |\n",
      "-------------------------\n",
      "| 8 0 0 | 7 0 3 | 0 6 0 |\n",
      "| 0 0 6 | 0 0 1 | 5 0 0 |\n",
      "| 2 0 0 | 0 0 8 | 4 7 0 |\n",
      "-------------------------\n",
      "| 0 4 0 | 5 0 6 | 0 0 0 |\n",
      "| 5 0 0 | 0 0 0 | 6 8 0 |\n",
      "| 0 0 0 | 1 0 0 | 0 5 4 |\n",
      "-------------------------\n"
     ]
    }
   ],
   "source": [
    "board_hard1 = empty.copy()\n",
    "\n",
    "#Wpisuję liczby\n",
    "board_hard1[0, :] = [0, 0, 4, 8, 0, 5, 7, 0, 6]\n",
    "board_hard1[1, :] = [0, 0, 0, 9, 0, 0, 0, 4, 0]\n",
    "board_hard1[2, :] = [0, 2, 0, 4, 0, 0, 0, 0, 1]\n",
    "board_hard1[3, :] = [8, 0, 0, 7, 0, 3, 0, 6, 0]\n",
    "board_hard1[4, :] = [0, 0, 6, 0, 0, 1, 5, 0, 0]\n",
    "board_hard1[5, :] = [2, 0, 0, 0, 0, 8, 4, 7, 0]\n",
    "board_hard1[6, :] = [0, 4, 0, 5, 0, 6, 0, 0, 0]\n",
    "board_hard1[7, :] = [5, 0, 0, 0, 0, 0, 6, 8, 0]\n",
    "board_hard1[8, :] = [0, 0, 0, 1, 0, 0, 0, 5, 4]\n",
    "\n",
    "pretty_board(board_hard1)\n",
    "\n",
    "#source: https://sudoku.com/pl/\n",
    "correct_hard1 = [9, 3, 1, 2, 1, 8, 7, 6, 2, 3, 6, 5, 3, 7, 8, 9, 5, 9, 4, 1, 2, 4, 7, 2, 9, 3, 8, 1, 3, 6, 5, 9, 7, 2, 8, 9, 1, 3, 9, 1, 3, 2, 4, 7, 3, 6, 8, 7, 9, 2]\n",
    "\n",
    "#no. of missing values: 51\n"
   ]
  },
  {
   "cell_type": "code",
   "execution_count": 12,
   "id": "76dd529b",
   "metadata": {},
   "outputs": [
    {
     "name": "stdout",
     "output_type": "stream",
     "text": [
      "-------------------------\n",
      "| 0 0 0 | 0 0 0 | 6 8 0 |\n",
      "| 0 0 0 | 0 7 3 | 0 0 9 |\n",
      "| 3 0 9 | 0 0 0 | 0 4 5 |\n",
      "-------------------------\n",
      "| 4 9 0 | 0 0 0 | 0 0 0 |\n",
      "| 8 0 3 | 0 5 0 | 9 0 2 |\n",
      "| 0 0 0 | 0 0 0 | 0 3 6 |\n",
      "-------------------------\n",
      "| 9 6 0 | 0 0 0 | 3 0 8 |\n",
      "| 7 0 0 | 6 8 0 | 0 0 0 |\n",
      "| 0 2 8 | 0 0 0 | 0 0 0 |\n",
      "-------------------------\n"
     ]
    }
   ],
   "source": [
    "board_hard2 = empty.copy()\n",
    "\n",
    "#Wpisuję liczby\n",
    "board_hard2[0, :] = [0, 0, 0, 0, 0, 0, 6, 8, 0]\n",
    "board_hard2[1, :] = [0, 0, 0, 0, 7, 3, 0, 0, 9]\n",
    "board_hard2[2, :] = [3, 0, 9, 0, 0, 0, 0, 4, 5]\n",
    "board_hard2[3, :] = [4, 9, 0, 0, 0, 0, 0, 0, 0]\n",
    "board_hard2[4, :] = [8, 0, 3, 0, 5, 0, 9, 0, 2]\n",
    "board_hard2[5, :] = [0, 0, 0, 0, 0, 0, 0, 3, 6]\n",
    "board_hard2[6, :] = [9, 6, 0, 0, 0, 0, 3, 0, 8]\n",
    "board_hard2[7, :] = [7, 0, 0, 6, 8, 0, 0, 0, 0]\n",
    "board_hard2[8, :] = [0, 2, 8, 0, 0, 0, 0, 0, 0]\n",
    "\n",
    "pretty_board(board_hard2)\n",
    "\n",
    "#source: https://www.websudoku.com/images/example-steps.html\n",
    "\n",
    "correct_hard2 = [1, 7, 2, 5, 4, 9, 3, 6, 4, 5, 8, 2, 1, 8, 2, 6, 1, 7, 6, 3, 2, 7, 8, 5, 1, 1, 4, 6, 7, 2, 5, 7, 1, 9, 8, 4, 4, 7, 1, 5, 2, 3, 1, 2, 5, 9, 4, 5, 9, 3, 4, 1, 6, 7]\n",
    "\n",
    "#no. of missing values: 54\n"
   ]
  },
  {
   "cell_type": "code",
   "execution_count": 13,
   "id": "ff5e1ffb",
   "metadata": {},
   "outputs": [
    {
     "name": "stdout",
     "output_type": "stream",
     "text": [
      "-------------------------\n",
      "| 7 0 1 | 0 2 6 | 0 0 0 |\n",
      "| 0 0 6 | 0 0 0 | 1 0 5 |\n",
      "| 0 0 0 | 3 1 0 | 0 2 6 |\n",
      "-------------------------\n",
      "| 0 0 0 | 8 9 5 | 2 6 7 |\n",
      "| 9 8 0 | 0 0 0 | 0 5 0 |\n",
      "| 0 0 0 | 0 0 0 | 0 9 0 |\n",
      "-------------------------\n",
      "| 0 0 8 | 9 0 4 | 6 1 0 |\n",
      "| 5 0 0 | 7 6 0 | 0 0 9 |\n",
      "| 0 0 9 | 0 3 0 | 0 0 0 |\n",
      "-------------------------\n"
     ]
    }
   ],
   "source": [
    "board_hard3 = empty.copy()\n",
    "\n",
    "#Wpisuję liczby\n",
    "board_hard3[0, :] = [7, 0, 1, 0, 2, 6, 0, 0, 0]\n",
    "board_hard3[1, :] = [0, 0, 6, 0, 0, 0, 1, 0, 5]\n",
    "board_hard3[2, :] = [0, 0, 0, 3, 1, 0, 0, 2, 6]\n",
    "board_hard3[3, :] = [0, 0, 0, 8, 9, 5, 2, 6, 7]\n",
    "board_hard3[4, :] = [9, 8, 0, 0, 0, 0, 0, 5, 0]\n",
    "board_hard3[5, :] = [0, 0, 0, 0, 0, 0, 0, 9, 0]\n",
    "board_hard3[6, :] = [0, 0, 8, 9, 0, 4, 6, 1, 0]\n",
    "board_hard3[7, :] = [5, 0, 0, 7, 6, 0, 0, 0, 9]\n",
    "board_hard3[8, :] = [0, 0, 9, 0, 3, 0, 0, 0, 0]\n",
    "\n",
    "pretty_board(board_hard3)\n",
    "\n",
    "#source: https://sudoku.com/pl/\n",
    "\n",
    "correct_hard3 = [3, 5, 9, 4, 8, 2, 9, 4, 8, 7, 3, 8, 4, 5, 9, 7, 4, 1, 3, 2, 6, 7, 3, 4, 1, 6, 5, 7, 1, 4, 2, 8, 3, 3, 7, 5, 2, 2, 4, 1, 3, 8, 1, 6, 2, 8, 5, 7, 4]\n",
    "\n",
    "#no. of missing values: 49\n"
   ]
  },
  {
   "cell_type": "markdown",
   "id": "07e6ba1b",
   "metadata": {},
   "source": [
    "# FIRST METHOD"
   ]
  },
  {
   "cell_type": "markdown",
   "id": "6ffc0afb",
   "metadata": {},
   "source": [
    "First step is to find indices of missing values in every board. In my board missing values are written as zeroes."
   ]
  },
  {
   "cell_type": "code",
   "execution_count": 14,
   "id": "a02ac930",
   "metadata": {},
   "outputs": [],
   "source": [
    "board_easy1_copy = board_easy1.copy()\n",
    "temp_easy1 = np.where(board_easy1_copy == 0)\n",
    "blank_indices_easy1=np.asarray(temp_easy1).T\n",
    "\n",
    "board_easy2_copy = board_easy2.copy()\n",
    "temp_easy2 = np.where(board_easy2_copy == 0)\n",
    "blank_indices_easy2=np.asarray(temp_easy2).T\n",
    "\n",
    "board_easy3_copy = board_easy3.copy()\n",
    "temp_easy3 = np.where(board_easy3_copy == 0)\n",
    "blank_indices_easy3=np.asarray(temp_easy3).T\n",
    "\n",
    "\n",
    "\n",
    "board_medium1_copy = board_medium1.copy()\n",
    "temp_medium1 = np.where(board_medium1_copy == 0)\n",
    "blank_indices_medium1=np.asarray(temp_medium1).T\n",
    "\n",
    "board_medium2_copy = board_medium2.copy()\n",
    "temp_medium2 = np.where(board_medium2_copy == 0)\n",
    "blank_indices_medium2=np.asarray(temp_medium2).T\n",
    "\n",
    "board_medium3_copy = board_medium3.copy()\n",
    "temp_medium3 = np.where(board_medium3_copy == 0)\n",
    "blank_indices_medium3=np.asarray(temp_medium3).T\n",
    "\n",
    "\n",
    "\n",
    "board_hard1_copy = board_hard1.copy()\n",
    "temp_hard1 = np.where(board_hard1_copy == 0)\n",
    "blank_indices_hard1=np.asarray(temp_hard1).T\n",
    "\n",
    "board_hard2_copy = board_hard2.copy()\n",
    "temp_hard2 = np.where(board_hard2_copy == 0)\n",
    "blank_indices_hard2=np.asarray(temp_hard2).T\n",
    "\n",
    "board_hard3_copy = board_hard3.copy()\n",
    "temp_hard3 = np.where(board_hard3_copy == 0)\n",
    "blank_indices_hard3=np.asarray(temp_hard3).T"
   ]
  },
  {
   "cell_type": "markdown",
   "id": "fad0075d",
   "metadata": {},
   "source": [
    "Visualisation of how array of blank indices looks."
   ]
  },
  {
   "cell_type": "code",
   "execution_count": 15,
   "id": "09a84b7e",
   "metadata": {},
   "outputs": [
    {
     "data": {
      "text/plain": [
       "array([[0, 0],\n",
       "       [0, 3],\n",
       "       [0, 4],\n",
       "       [0, 7],\n",
       "       [1, 0],\n",
       "       [1, 1],\n",
       "       [1, 4],\n",
       "       [1, 5],\n",
       "       [1, 6],\n",
       "       [1, 7],\n",
       "       [1, 8],\n",
       "       [2, 5],\n",
       "       [2, 6],\n",
       "       [2, 7],\n",
       "       [2, 8],\n",
       "       [3, 1],\n",
       "       [3, 3],\n",
       "       [3, 5],\n",
       "       [3, 7],\n",
       "       [4, 0],\n",
       "       [4, 1],\n",
       "       [4, 3],\n",
       "       [4, 4],\n",
       "       [4, 5],\n",
       "       [4, 7],\n",
       "       [4, 8],\n",
       "       [5, 1],\n",
       "       [5, 3],\n",
       "       [5, 5],\n",
       "       [5, 7],\n",
       "       [6, 0],\n",
       "       [6, 1],\n",
       "       [6, 2],\n",
       "       [6, 3],\n",
       "       [7, 0],\n",
       "       [7, 1],\n",
       "       [7, 2],\n",
       "       [7, 3],\n",
       "       [7, 4],\n",
       "       [7, 7],\n",
       "       [7, 8],\n",
       "       [8, 1],\n",
       "       [8, 4],\n",
       "       [8, 5],\n",
       "       [8, 8]], dtype=int64)"
      ]
     },
     "execution_count": 15,
     "metadata": {},
     "output_type": "execute_result"
    }
   ],
   "source": [
    "blank_indices_medium1"
   ]
  },
  {
   "cell_type": "markdown",
   "id": "6fdc730a",
   "metadata": {},
   "source": [
    "GENETIC ALGORITHM"
   ]
  },
  {
   "cell_type": "markdown",
   "id": "03766ab1",
   "metadata": {},
   "source": [
    "Solution will be presented as an array of written in values on blank indices (by rows)."
   ]
  },
  {
   "cell_type": "markdown",
   "id": "5e27f700",
   "metadata": {},
   "source": [
    "Fitness function will check for basic sudoku rules, i. e. whether solution[i] already appears in current row/column/block."
   ]
  },
  {
   "cell_type": "markdown",
   "id": "d407967d",
   "metadata": {},
   "source": [
    "Unfortunately, I don't know how to correctly implement all 9 boards into one fitness function (I am not even sure if that's possible as I haven't found much during research). That means I will be using nine different finess functions which differ by board and blank indices array only.\n"
   ]
  },
  {
   "cell_type": "code",
   "execution_count": 16,
   "id": "c8af215e",
   "metadata": {},
   "outputs": [],
   "source": [
    "gene_space = [1, 2, 3, 4, 5, 6, 7, 8, 9] #every possible number one can write into sudoku puzzle\n",
    "\n",
    "\n",
    "def fitness_func_easy1(solution, solution_idx):\n",
    "    global board_easy1\n",
    "    global blank_indices_easy1\n",
    "    global gene_space\n",
    "    \n",
    "    rows_blank = blank_indices_easy1[:,0]\n",
    "    columns_blank = blank_indices_easy1[:,1]\n",
    "    fitness = 0\n",
    "    \n",
    "    for i in range(len(blank_indices_easy1)):\n",
    "        #checking for value in current row\n",
    "        if solution[i] in board_easy1[rows_blank[i], :]:\n",
    "            fitness -= 100\n",
    "        else:\n",
    "            fitness += 100\n",
    "        #checking for value in current column\n",
    "        if solution[i] in board_easy1[:, columns_blank[i]]:\n",
    "            fitness -= 100\n",
    "        else:\n",
    "            fitness += 100\n",
    "            \n",
    "        #checking for value in current block (3x3)\n",
    "        x = (columns_blank[i] // 3) * 3  #thanks to floor division I can separate board into three sectors \n",
    "        y = (rows_blank[i] // 3) * 3\n",
    "        for a in range(0, 3):\n",
    "            for j in range(0, 3):\n",
    "                if solution[i] == board_easy1[y+a][x+j]:\n",
    "                    fitness -= 100\n",
    "                else:\n",
    "                    fitness += 100\n",
    "\n",
    "    return fitness\n",
    "\n",
    "            \n",
    "def fitness_func_easy2(solution, solution_idx):\n",
    "    global board_easy2\n",
    "    global blank_indices_easy2\n",
    "    global gene_space\n",
    "    \n",
    "    rows_blank = blank_indices_easy2[:,0]\n",
    "    columns_blank = blank_indices_easy2[:,1]\n",
    "    fitness = 0\n",
    "    \n",
    "    for i in range(len(blank_indices_easy2)):\n",
    "        if solution[i] in board_easy2[rows_blank[i], :]:\n",
    "            fitness -= 100\n",
    "        else:\n",
    "            fitness += 100\n",
    "        if solution[i] in board_easy2[:, columns_blank[i]]:\n",
    "            fitness -= 100\n",
    "        else:\n",
    "            fitness += 100\n",
    "            \n",
    "        x = (columns_blank[i] // 3) * 3 \n",
    "        y = (rows_blank[i] // 3) * 3\n",
    "        for a in range(0, 3):\n",
    "            for j in range(0, 3):\n",
    "                if solution[i] == board_easy2[y+a][x+j]:\n",
    "                    fitness -= 100\n",
    "                else:\n",
    "                    fitness += 100\n",
    "\n",
    "    return fitness\n",
    "\n",
    "\n",
    "def fitness_func_easy3(solution, solution_idx):\n",
    "    global board_easy3\n",
    "    global blank_indices_easy3\n",
    "    global gene_space\n",
    "    \n",
    "    rows_blank = blank_indices_easy3[:,0]\n",
    "    columns_blank = blank_indices_easy3[:,1]\n",
    "    fitness = 0\n",
    "    \n",
    "    for i in range(len(blank_indices_easy3)):\n",
    "        if solution[i] in board_easy3[rows_blank[i], :]:\n",
    "            fitness -= 100\n",
    "        else:\n",
    "            fitness += 100\n",
    "        if solution[i] in board_easy3[:, columns_blank[i]]:\n",
    "            fitness -= 100\n",
    "        else:\n",
    "            fitness += 100\n",
    "            \n",
    "        x = (columns_blank[i] // 3) * 3  \n",
    "        y = (rows_blank[i] // 3) * 3\n",
    "        for a in range(0, 3):\n",
    "            for j in range(0, 3):\n",
    "                if solution[i] == board_easy3[y+a][x+j]:\n",
    "                    fitness -= 100\n",
    "                else:\n",
    "                    fitness += 100\n",
    "\n",
    "    return fitness"
   ]
  },
  {
   "cell_type": "code",
   "execution_count": 17,
   "id": "29aeccd2",
   "metadata": {},
   "outputs": [],
   "source": [
    "def fitness_func_medium1(solution, solution_idx):\n",
    "    global board_medium1\n",
    "    global blank_indices_medium1\n",
    "    global gene_space\n",
    "    \n",
    "    rows_blank = blank_indices_medium1[:,0]\n",
    "    columns_blank = blank_indices_medium1[:,1]\n",
    "    fitness = 0\n",
    "    \n",
    "    for i in range(len(blank_indices_medium1)):\n",
    "        if solution[i] in board_medium1[rows_blank[i], :]:\n",
    "            fitness -= 100\n",
    "        else:\n",
    "            fitness += 100\n",
    "        if solution[i] in board_medium1[:, columns_blank[i]]:\n",
    "            fitness -= 100\n",
    "        else:\n",
    "            fitness += 100\n",
    "            \n",
    "        x = (columns_blank[i] // 3) * 3   \n",
    "        y = (rows_blank[i] // 3) * 3\n",
    "        for a in range(0, 3):\n",
    "            for j in range(0, 3):\n",
    "                if solution[i] == board_medium1[y+a][x+j]:\n",
    "                    fitness -= 100\n",
    "                else:\n",
    "                    fitness += 100\n",
    "\n",
    "    return fitness\n",
    "\n",
    "\n",
    "def fitness_func_medium2(solution, solution_idx):\n",
    "    global board_medium2\n",
    "    global blank_indices_medium2\n",
    "    global gene_space\n",
    "    \n",
    "    rows_blank = blank_indices_medium2[:,0]\n",
    "    columns_blank = blank_indices_medium2[:,1]\n",
    "    fitness = 0\n",
    "    \n",
    "    for i in range(len(blank_indices_medium2)):\n",
    "        if solution[i] in board_medium2[rows_blank[i], :]:\n",
    "            fitness -= 100\n",
    "        else:\n",
    "            fitness += 100\n",
    "        if solution[i] in board_medium2[:, columns_blank[i]]:\n",
    "            fitness -= 100\n",
    "        else:\n",
    "            fitness += 100\n",
    "            \n",
    "        x = (columns_blank[i] // 3) * 3  \n",
    "        y = (rows_blank[i] // 3) * 3\n",
    "        for a in range(0, 3):\n",
    "            for j in range(0, 3):\n",
    "                if solution[i] == board_medium2[y+a][x+j]:\n",
    "                    fitness -= 100\n",
    "                else:\n",
    "                    fitness += 100\n",
    "\n",
    "    return fitness\n",
    "\n",
    "\n",
    "def fitness_func_medium3(solution, solution_idx):\n",
    "    global board_medium3\n",
    "    global blank_indices_medium3\n",
    "    global gene_space\n",
    "    \n",
    "    rows_blank = blank_indices_medium3[:,0]\n",
    "    columns_blank = blank_indices_medium3[:,1]\n",
    "    fitness = 0\n",
    "    \n",
    "    for i in range(len(blank_indices_medium3)):\n",
    "        if solution[i] in board_medium3[rows_blank[i], :]:\n",
    "            fitness -= 100\n",
    "        else:\n",
    "            fitness += 100\n",
    "        if solution[i] in board_medium3[:, columns_blank[i]]:\n",
    "            fitness -= 100\n",
    "        else:\n",
    "            fitness += 100\n",
    "            \n",
    "        x = (columns_blank[i] // 3) * 3  \n",
    "        y = (rows_blank[i] // 3) * 3\n",
    "        for a in range(0, 3):\n",
    "            for j in range(0, 3):\n",
    "                if solution[i] == board_medium3[y+a][x+j]:\n",
    "                    fitness -= 100\n",
    "                else:\n",
    "                    fitness += 100\n",
    "\n",
    "    return fitness"
   ]
  },
  {
   "cell_type": "code",
   "execution_count": 18,
   "id": "d64098f1",
   "metadata": {},
   "outputs": [],
   "source": [
    "def fitness_func_hard1(solution, solution_idx):\n",
    "    global board_hard1\n",
    "    global blank_indices_hard1\n",
    "    global gene_space\n",
    "    \n",
    "    rows_blank = blank_indices_hard1[:,0]\n",
    "    columns_blank = blank_indices_hard1[:,1]\n",
    "    fitness = 0\n",
    "    \n",
    "    for i in range(len(blank_indices_hard1)):\n",
    "        if solution[i] in board_hard1[rows_blank[i], :]:\n",
    "            fitness -= 100\n",
    "        else:\n",
    "            fitness += 100\n",
    "        if solution[i] in board_hard1[:, columns_blank[i]]:\n",
    "            fitness -= 100\n",
    "        else:\n",
    "            fitness += 100\n",
    "            \n",
    "        x = (columns_blank[i] // 3) * 3  \n",
    "        y = (rows_blank[i] // 3) * 3\n",
    "        for a in range(0, 3):\n",
    "            for j in range(0, 3):\n",
    "                if solution[i] == board_hard1[y+a][x+j]:\n",
    "                    fitness -= 100\n",
    "                else:\n",
    "                    fitness += 100\n",
    "\n",
    "    return fitness\n",
    "\n",
    "def fitness_func_hard2(solution, solution_idx):\n",
    "    global board_hard2\n",
    "    global blank_indices_hard2\n",
    "    global gene_space\n",
    "    \n",
    "    rows_blank = blank_indices_hard2[:,0]\n",
    "    columns_blank = blank_indices_hard2[:,1]\n",
    "    fitness = 0\n",
    "    \n",
    "    for i in range(len(blank_indices_hard2)):\n",
    "        if solution[i] in board_hard2[rows_blank[i], :]:\n",
    "            fitness -= 100\n",
    "        else:\n",
    "            fitness += 100\n",
    "        if solution[i] in board_hard2[:, columns_blank[i]]:\n",
    "            fitness -= 100\n",
    "        else:\n",
    "            fitness += 100\n",
    "            \n",
    "        x = (columns_blank[i] // 3) * 3  \n",
    "        y = (rows_blank[i] // 3) * 3\n",
    "        for a in range(0, 3):\n",
    "            for j in range(0, 3):\n",
    "                if solution[i] == board_hard2[y+a][x+j]:\n",
    "                    fitness -= 100\n",
    "                else:\n",
    "                    fitness += 100\n",
    "\n",
    "    return fitness\n",
    "\n",
    "\n",
    "def fitness_func_hard3(solution, solution_idx):\n",
    "    global board_hard3\n",
    "    global blank_indices_hard3\n",
    "    global gene_space\n",
    "    \n",
    "    rows_blank = blank_indices_hard3[:,0]\n",
    "    columns_blank = blank_indices_hard3[:,1]\n",
    "    fitness = 0\n",
    "    \n",
    "    for i in range(len(blank_indices_hard3)):\n",
    "        if solution[i] in board_hard3[rows_blank[i], :]:\n",
    "            fitness -= 100\n",
    "        else:\n",
    "            fitness += 100\n",
    "        if solution[i] in board_hard3[:, columns_blank[i]]:\n",
    "            fitness -= 100\n",
    "        else:\n",
    "            fitness += 100\n",
    "            \n",
    "        x = (columns_blank[i] // 3) * 3  \n",
    "        y = (rows_blank[i] // 3) * 3\n",
    "        for a in range(0, 3):\n",
    "            for j in range(0, 3):\n",
    "                if solution[i] == board_hard3[y+a][x+j]:\n",
    "                    fitness -= 100\n",
    "                else:\n",
    "                    fitness += 100\n",
    "\n",
    "    return fitness"
   ]
  },
  {
   "cell_type": "markdown",
   "id": "aef84de4",
   "metadata": {},
   "source": [
    "I want to check how correct the genetic algorithm is."
   ]
  },
  {
   "cell_type": "code",
   "execution_count": 19,
   "id": "7a681477",
   "metadata": {},
   "outputs": [],
   "source": [
    "#Function that compares pygad's best solutions with correct solution\n",
    "def find_common(a1, a2):\n",
    "    list_len = len(a1)\n",
    "    a3 = 0\n",
    "    i = j = 0\n",
    "    for i in range(list_len):\n",
    "        if a1[i] == a2[i]:\n",
    "            a3 += 1\n",
    "    return a3\n"
   ]
  },
  {
   "cell_type": "markdown",
   "id": "b5de726a",
   "metadata": {},
   "source": [
    "Based on my current knowledge, I didn't think it was necessary to use any non-standard crossover types or mutation types."
   ]
  },
  {
   "cell_type": "markdown",
   "id": "c1a21eac",
   "metadata": {},
   "source": [
    "# TEST FOR 100 EASY INPUTS"
   ]
  },
  {
   "cell_type": "code",
   "execution_count": 20,
   "id": "250ac978",
   "metadata": {},
   "outputs": [],
   "source": [
    "bestsol_easy_method1 = []\n",
    "times_easy_method1 = []\n",
    "counts_easy_method1 = []\n",
    "times_perfect_easy_method1 = []\n",
    "easy = [fitness_func_easy1, fitness_func_easy2, fitness_func_easy3]\n",
    "\n",
    "blanks_easy = [blank_indices_easy1, blank_indices_easy2, blank_indices_easy3]\n",
    "\n",
    "correct_easy = [correct_easy1, correct_easy2, correct_easy3]\n",
    "\n",
    "for i in range(100):\n",
    "    which_input = random.randint(0,2)\n",
    "    fitness_func = easy[which_input]\n",
    "    num_genes = len(blanks_easy[which_input])\n",
    "    cor = correct_easy[which_input]\n",
    "    \n",
    "    ga_instance = pygad.GA(gene_space=gene_space,\n",
    "                       num_generations=10,\n",
    "                       num_parents_mating=100,\n",
    "                       fitness_func=fitness_func,\n",
    "                       sol_per_pop=200,\n",
    "                       num_genes=num_genes,\n",
    "                       parent_selection_type='random',\n",
    "                       keep_parents=4,\n",
    "                       crossover_type='single_point',\n",
    "                       mutation_type='random',\n",
    "                       mutation_percent_genes=8)\n",
    "\n",
    "    start = time.time()\n",
    "    ga_instance.run()\n",
    "    end = time.time()\n",
    "    times_easy_method1.append(end - start)\n",
    "\n",
    "    solution, solution_fitness, solution_idx = ga_instance.best_solution()\n",
    "    bestsol_easy_method1.append(solution)\n",
    "    counts_easy_method1.append((find_common(cor, bestsol_easy_method1[i])/(num_genes))*100)\n",
    "    if counts_easy_method1[i] == 100:\n",
    "        times_perfect_easy_method1.append(times[i])\n"
   ]
  },
  {
   "cell_type": "code",
   "execution_count": 21,
   "id": "ef908eb0",
   "metadata": {},
   "outputs": [
    {
     "data": {
      "text/plain": [
       "[44.0,\n",
       " 52.0,\n",
       " 16.0,\n",
       " 6.666666666666667,\n",
       " 28.000000000000004,\n",
       " 30.0,\n",
       " 27.77777777777778,\n",
       " 28.000000000000004,\n",
       " 38.88888888888889,\n",
       " 13.333333333333334]"
      ]
     },
     "execution_count": 21,
     "metadata": {},
     "output_type": "execute_result"
    }
   ],
   "source": [
    "counts_easy_method1"
   ]
  },
  {
   "cell_type": "markdown",
   "id": "dfd08ffc",
   "metadata": {},
   "source": [
    "As seen above, there wasn't any perfect solutions so the array with times of perfect solution should be empty."
   ]
  },
  {
   "cell_type": "code",
   "execution_count": 22,
   "id": "988cd6ae",
   "metadata": {},
   "outputs": [
    {
     "data": {
      "text/plain": [
       "[]"
      ]
     },
     "execution_count": 22,
     "metadata": {},
     "output_type": "execute_result"
    }
   ],
   "source": [
    "times_perfect_easy_method1"
   ]
  },
  {
   "cell_type": "markdown",
   "id": "a1c4ea5f",
   "metadata": {},
   "source": [
    "And it is, so code for counting best solution works."
   ]
  },
  {
   "cell_type": "markdown",
   "id": "b14c8328",
   "metadata": {},
   "source": [
    "# TEST FOR 100 MEDIUM INPUTS"
   ]
  },
  {
   "cell_type": "code",
   "execution_count": 23,
   "id": "f0980c76",
   "metadata": {},
   "outputs": [],
   "source": [
    "bestsol_medium_method1 = []\n",
    "times_medium_method1 = []\n",
    "counts_medium_method1 = []\n",
    "times_perfect_medium_method1 = []\n",
    "medium = [fitness_func_medium1, fitness_func_medium2, fitness_func_medium3]\n",
    "\n",
    "blanks_medium = [blank_indices_medium1, blank_indices_medium2, blank_indices_medium3]\n",
    "\n",
    "correct_medium = [correct_medium1, correct_medium2, correct_medium3]\n",
    "\n",
    "for i in range(100):\n",
    "    which_input = random.randint(0,2)\n",
    "    fitness_func = medium[which_input]\n",
    "    num_genes = len(blanks_medium[which_input])\n",
    "    cor = correct_medium[which_input]\n",
    "    \n",
    "    ga_instance = pygad.GA(gene_space=gene_space,\n",
    "                       num_generations=10,\n",
    "                       num_parents_mating=100,\n",
    "                       fitness_func=fitness_func,\n",
    "                       sol_per_pop=200,\n",
    "                       num_genes=num_genes,\n",
    "                       parent_selection_type='random',\n",
    "                       keep_parents=4,\n",
    "                       crossover_type='single_point',\n",
    "                       mutation_type='random',\n",
    "                       mutation_percent_genes=8)\n",
    "\n",
    "    start = time.time()\n",
    "    ga_instance.run()\n",
    "    end = time.time()\n",
    "    times_medium_method1.append(end - start)\n",
    "\n",
    "    solution, solution_fitness, solution_idx = ga_instance.best_solution()\n",
    "    bestsol_medium_method1.append(solution)\n",
    "    counts_medium_method1.append((find_common(cor, bestsol_medium_method1[i])/(num_genes))*100)\n",
    "    if counts_medium_method1[i] == 100:\n",
    "        times_perfect_medium_method1.append(times[i])"
   ]
  },
  {
   "cell_type": "code",
   "execution_count": 24,
   "id": "049120c5",
   "metadata": {},
   "outputs": [
    {
     "data": {
      "text/plain": [
       "[22.22222222222222,\n",
       " 17.77777777777778,\n",
       " 17.77777777777778,\n",
       " 28.888888888888886,\n",
       " 17.77777777777778,\n",
       " 15.555555555555555,\n",
       " 24.444444444444443,\n",
       " 20.0,\n",
       " 17.77777777777778,\n",
       " 24.444444444444443]"
      ]
     },
     "execution_count": 24,
     "metadata": {},
     "output_type": "execute_result"
    }
   ],
   "source": [
    "counts_medium_method1"
   ]
  },
  {
   "cell_type": "code",
   "execution_count": 25,
   "id": "c221f5dc",
   "metadata": {},
   "outputs": [
    {
     "data": {
      "text/plain": [
       "2.1183284759521483"
      ]
     },
     "execution_count": 25,
     "metadata": {},
     "output_type": "execute_result"
    }
   ],
   "source": [
    "np.mean(times_medium_method1)"
   ]
  },
  {
   "cell_type": "code",
   "execution_count": 26,
   "id": "e65fda8e",
   "metadata": {},
   "outputs": [
    {
     "data": {
      "text/plain": [
       "[]"
      ]
     },
     "execution_count": 26,
     "metadata": {},
     "output_type": "execute_result"
    }
   ],
   "source": [
    "times_perfect_medium_method1"
   ]
  },
  {
   "cell_type": "markdown",
   "id": "25141a9d",
   "metadata": {},
   "source": [
    "For medium level it looks even more tragic."
   ]
  },
  {
   "cell_type": "markdown",
   "id": "2318f4a8",
   "metadata": {},
   "source": [
    "# TEST FOR 100 HARD LEVELS"
   ]
  },
  {
   "cell_type": "code",
   "execution_count": 27,
   "id": "a2da9e4e",
   "metadata": {},
   "outputs": [],
   "source": [
    "bestsol_hard_method1 = []\n",
    "times_hard_method1 = []\n",
    "counts_hard_method1 = []\n",
    "times_perfect_hard_method1 = []\n",
    "\n",
    "hard = [fitness_func_hard1, fitness_func_hard2, fitness_func_hard3]\n",
    "\n",
    "blanks_hard = [blank_indices_hard1, blank_indices_hard2, blank_indices_hard3]\n",
    "\n",
    "correct_hard = [correct_hard1, correct_hard2, correct_hard3]\n",
    "\n",
    "for i in range(100):\n",
    "    which_input = random.randint(0,2)\n",
    "    fitness_func = hard[which_input]\n",
    "    num_genes = len(blanks_hard[which_input])\n",
    "    cor = correct_hard[which_input]\n",
    "    \n",
    "    ga_instance = pygad.GA(gene_space=gene_space,\n",
    "                       num_generations=10,\n",
    "                       num_parents_mating=100,\n",
    "                       fitness_func=fitness_func,\n",
    "                       sol_per_pop=200,\n",
    "                       num_genes=num_genes,\n",
    "                       parent_selection_type='random',\n",
    "                       keep_parents=4,\n",
    "                       crossover_type='single_point',\n",
    "                       mutation_type='random',\n",
    "                       mutation_percent_genes=8)\n",
    "\n",
    "    start = time.time()\n",
    "    ga_instance.run()\n",
    "    end = time.time()\n",
    "    times_hard_method1.append(end - start)\n",
    "\n",
    "    solution, solution_fitness, solution_idx = ga_instance.best_solution()\n",
    "    bestsol_hard_method1.append(solution)\n",
    "    counts_hard_method1.append((find_common(cor, bestsol_hard_method1[i])/(num_genes))*100)\n",
    "    if counts_hard_method1[i] == 100:\n",
    "        times_perfect_hard_method1.append(times[i])"
   ]
  },
  {
   "cell_type": "code",
   "execution_count": 28,
   "id": "5022d614",
   "metadata": {},
   "outputs": [
    {
     "data": {
      "text/plain": [
       "[16.3265306122449,\n",
       " 16.3265306122449,\n",
       " 12.244897959183673,\n",
       " 18.51851851851852,\n",
       " 13.725490196078432,\n",
       " 20.37037037037037,\n",
       " 16.3265306122449,\n",
       " 13.725490196078432,\n",
       " 3.9215686274509802,\n",
       " 24.074074074074073]"
      ]
     },
     "execution_count": 28,
     "metadata": {},
     "output_type": "execute_result"
    }
   ],
   "source": [
    "counts_hard_method1"
   ]
  },
  {
   "cell_type": "code",
   "execution_count": 29,
   "id": "7b07e571",
   "metadata": {},
   "outputs": [
    {
     "data": {
      "text/plain": [
       "2.421877884864807"
      ]
     },
     "execution_count": 29,
     "metadata": {},
     "output_type": "execute_result"
    }
   ],
   "source": [
    "np.mean(times_hard_method1)"
   ]
  },
  {
   "cell_type": "code",
   "execution_count": 30,
   "id": "7125e651",
   "metadata": {},
   "outputs": [
    {
     "data": {
      "text/plain": [
       "[]"
      ]
     },
     "execution_count": 30,
     "metadata": {},
     "output_type": "execute_result"
    }
   ],
   "source": [
    "times_perfect_hard_method1"
   ]
  },
  {
   "cell_type": "markdown",
   "id": "2773f0fa",
   "metadata": {},
   "source": [
    "# SECOND METHOD"
   ]
  },
  {
   "cell_type": "markdown",
   "id": "98408978",
   "metadata": {},
   "source": [
    "As we can clearly see, first method can't solve any sudoku correctly. My first thought was that it is because gene space consists of 9 numbers every time. However, when a human solves sudoku, they can see from the first glance that for every blank space there are numbers that can't be written in from the start. My solution for that problem is to write a function that will check for every possible value for every blank space even before starting the algorithm."
   ]
  },
  {
   "cell_type": "code",
   "execution_count": 31,
   "id": "a051263c",
   "metadata": {},
   "outputs": [],
   "source": [
    "#Function that checks if number is in row/column/block - and if it's not, it's added to a list with potentail values for every \n",
    "#blank space\n",
    "\n",
    "def potential_values(board,row,col):\n",
    "    \n",
    "    number_list = list()\n",
    "    \n",
    "    for number in range(1, 10):\n",
    "        found = False #at first I assume that certain number is not in row/column/block\n",
    "        #Checking row\n",
    "        for i in range(9):\n",
    "            if board[row][i] == number:\n",
    "                found = True #If number is in row, I change found to True\n",
    "                break\n",
    "        #Checking column\n",
    "        if found == True:\n",
    "            continue #continue means that function skips current iteration and goes to the next one\n",
    "            #in simple words - if a number appears in a row, I don't have to check the column, because it can't be a potential value\n",
    "        else:\n",
    "            for j in range(9):\n",
    "                if board[j][col] ==number:\n",
    "                    found = True\n",
    "                    break\n",
    "                    \n",
    "        #Checking block\n",
    "        if found == True:\n",
    "            continue\n",
    "        else:\n",
    "            rowstart = 3 * (row // 3)\n",
    "            colstart = 3 * (col // 3)\n",
    "            rowend = rowstart + 3\n",
    "            colend = colstart + 3\n",
    "            \n",
    "            for i in range(rowstart, rowend):\n",
    "                for j in range(colstart, colend):\n",
    "                    if board[i][j] == number:\n",
    "                        found = True\n",
    "                        break\n",
    "                        \n",
    "        if found == False:\n",
    "            number_list.append(number)\n",
    "    return number_list"
   ]
  },
  {
   "cell_type": "code",
   "execution_count": 32,
   "id": "23d9d3c0",
   "metadata": {},
   "outputs": [],
   "source": [
    "#I want my program to scan the entire board and store potential values in a dictionary attached to its indices\n",
    "#I think of it as writing in pencil while solving a sudoku - hence the pencil name\n",
    "def pencil_values(board):\n",
    "    pencil = dict() #I use dictionary because it is the best option to find searched values \n",
    "    for i in range(9):\n",
    "        for j in range(9):\n",
    "            if board[i][j] == 0:\n",
    "                pencil[(i,j)] = potential_values(board,i,j)\n",
    "    return pencil"
   ]
  },
  {
   "cell_type": "markdown",
   "id": "e1e7e9bd",
   "metadata": {},
   "source": [
    "Let's see how it looks for board_easy1:"
   ]
  },
  {
   "cell_type": "code",
   "execution_count": 33,
   "id": "f01eae31",
   "metadata": {},
   "outputs": [
    {
     "data": {
      "text/plain": [
       "{(0, 0): [1],\n",
       " (0, 2): [3],\n",
       " (1, 3): [1, 9],\n",
       " (1, 5): [1, 9],\n",
       " (2, 6): [1],\n",
       " (2, 8): [1, 5],\n",
       " (3, 0): [1, 8],\n",
       " (3, 1): [1],\n",
       " (4, 3): [1, 8],\n",
       " (4, 5): [1],\n",
       " (5, 7): [1],\n",
       " (5, 8): [1, 2],\n",
       " (6, 0): [5],\n",
       " (6, 2): [2],\n",
       " (7, 3): [9],\n",
       " (7, 5): [3, 9],\n",
       " (8, 6): [1, 4],\n",
       " (8, 8): [1]}"
      ]
     },
     "execution_count": 33,
     "metadata": {},
     "output_type": "execute_result"
    }
   ],
   "source": [
    "pencil_values(board_easy1)"
   ]
  },
  {
   "cell_type": "markdown",
   "id": "9c0e4fef",
   "metadata": {},
   "source": [
    "It looks solid and accuarte."
   ]
  },
  {
   "cell_type": "markdown",
   "id": "90d5fbc1",
   "metadata": {},
   "source": [
    "Using a dictionary for the first time, I stumbled upon a problem on how to get access to values. Apparently, one have to make a list out of dictionary and then it's self-explanatory."
   ]
  },
  {
   "cell_type": "code",
   "execution_count": 34,
   "id": "3bcc4ae6",
   "metadata": {},
   "outputs": [
    {
     "data": {
      "text/plain": [
       "[1, 9]"
      ]
     },
     "execution_count": 34,
     "metadata": {},
     "output_type": "execute_result"
    }
   ],
   "source": [
    "list(pencil_values(board_easy1).values())[2] #potential values for third blank space\n"
   ]
  },
  {
   "cell_type": "code",
   "execution_count": 37,
   "id": "1bae88d7",
   "metadata": {},
   "outputs": [],
   "source": [
    "pencil_easy1 = pencil_values(board_easy1_copy)\n",
    "pencil_easy2 = pencil_values(board_easy2_copy)\n",
    "pencil_easy3 = pencil_values(board_easy3_copy)\n",
    "\n",
    "pencil_medium1 = pencil_values(board_medium1)\n",
    "pencil_medium2 = pencil_values(board_medium2)\n",
    "pencil_medium3 = pencil_values(board_medium3)\n",
    "\n",
    "pencil_hard1 = pencil_values(board_hard1)\n",
    "pencil_hard2 = pencil_values(board_hard2)\n",
    "pencil_hard3 = pencil_values(board_hard3)"
   ]
  },
  {
   "cell_type": "markdown",
   "id": "3d528ebf",
   "metadata": {},
   "source": [
    "Having found potential values for every blank space, I want each blank space to have its own gene space. It wouldn't make much sense if GA had to choose from 9 numbers when only two of them are possible after only one glance."
   ]
  },
  {
   "cell_type": "markdown",
   "id": "37f1b75c",
   "metadata": {},
   "source": [
    "Differences between this and previous fitness: individual gene space for every blank space, introducing obvious singles method."
   ]
  },
  {
   "cell_type": "code",
   "execution_count": 38,
   "id": "b87dca90",
   "metadata": {},
   "outputs": [],
   "source": [
    "gene_space_easy1 = list(pencil_easy1.values())\n",
    "\n",
    "\n",
    "def fitness_func_easy1_method2(solution, solution_idx):\n",
    "    global pencil_easy1\n",
    "    global board_easy1\n",
    "    global gene_space_easy1\n",
    "    global blank_indices_easy1\n",
    "    rows_blank = blank_indices_easy1[:, 0]\n",
    "    columns_blank = blank_indices_easy1[:, 1]\n",
    "    fitness = 0\n",
    "    \n",
    "    for i in range(10):\n",
    "        for i in range(len(gene_space_easy1)): #this method is called OBVIOUS SINGLES \n",
    "            if len(gene_space_easy1[i]) == 1: #it means that if there is only one possible value to write in, algorithm writes it in first\n",
    "                solution[i] = gene_space_easy1[i][0]\n",
    "        for i in range(len(blank_indices_easy1)):\n",
    "            board_easy1[rows_blank[i], columns_blank[i]] = solution[i]\n",
    "\n",
    "        newpencil = pencil_values(board_easy1)\n",
    "        gene_space_easy1 = list(newpencil.values())\n",
    "\n",
    "                \n",
    "    \n",
    "    for i in range(len(rows_blank)):\n",
    "        if solution[i] in board_easy1[rows_blank[i], :]:\n",
    "            fitness -= 1000\n",
    "\n",
    "        if solution[i] in board_easy1[:, columns_blank[i]]:\n",
    "            fitness -= 1000\n",
    "\n",
    "        x = (columns_blank[i] // 3) * 3  \n",
    "        y = (rows_blank[i] // 3) * 3\n",
    "\n",
    "        for a in range(0, 3):\n",
    "            for j in range(0, 3):\n",
    "                if solution[i] == board_easy1[y+a][x+j]:\n",
    "                    fitness -= 1000\n",
    "\n",
    "\n",
    "    fitness += 100\n",
    "    return fitness    \n",
    "        \n",
    "        \n",
    "    \n",
    "    \n"
   ]
  },
  {
   "cell_type": "code",
   "execution_count": 39,
   "id": "012e1817",
   "metadata": {},
   "outputs": [],
   "source": [
    "gene_space_easy2 = list(pencil_easy2.values())\n",
    "\n",
    "\n",
    "def fitness_func_easy2_method2(solution, solution_idx):\n",
    "    global pencil_easy2\n",
    "    global board_easy2\n",
    "    global gene_space_easy2\n",
    "    global blank_indices_easy2\n",
    "    rows_blank = blank_indices_easy2[:, 0]\n",
    "    columns_blank = blank_indices_easy2[:, 1]\n",
    "    fitness = 0\n",
    "    \n",
    "    for i in range(10):\n",
    "        for i in range(len(gene_space_easy2)):  \n",
    "            if len(gene_space_easy2[i]) == 1: \n",
    "                solution[i] = gene_space_easy2[i][0]\n",
    "\n",
    "        for i in range(len(blank_indices_easy2)):\n",
    "            board_easy2[rows_blank[i], columns_blank[i]] = solution[i]\n",
    "\n",
    "        newpencil = pencil_values(board_easy2)\n",
    "        gene_space_easy2 = list(newpencil.values())\n",
    "    \n",
    "    for i in range(len(rows_blank)):\n",
    "        if solution[i] in board_easy2[rows_blank[i], :]:\n",
    "            fitness -= 1000\n",
    "\n",
    "        if solution[i] in board_easy2[:, columns_blank[i]]:\n",
    "            fitness -= 1000\n",
    "\n",
    "        x = (columns_blank[i] // 3) * 3 \n",
    "        y = (rows_blank[i] // 3) * 3\n",
    "\n",
    "        for a in range(0, 3):\n",
    "            for j in range(0, 3):\n",
    "                if solution[i] == board_easy2[y+a][x+j]:\n",
    "                    fitness -= 1000\n",
    "\n",
    "\n",
    "    fitness += 100\n",
    "    return fitness    \n",
    "        "
   ]
  },
  {
   "cell_type": "code",
   "execution_count": 40,
   "id": "6aa02f46",
   "metadata": {},
   "outputs": [],
   "source": [
    "gene_space_easy3 = list(pencil_easy3.values())\n",
    "\n",
    "\n",
    "def fitness_func_easy3_method2(solution, solution_idx):\n",
    "    global pencil_easy3\n",
    "    global board_easy3\n",
    "    global gene_space_easy3\n",
    "    global blank_indices_easy3\n",
    "    rows_blank = blank_indices_easy3[:, 0]\n",
    "    columns_blank = blank_indices_easy3[:, 1]\n",
    "    fitness = 0\n",
    "    \n",
    "    for i in range(10):\n",
    "        for i in range(len(gene_space_easy3)): \n",
    "            if len(gene_space_easy3[i]) == 1: \n",
    "                solution[i] = gene_space_easy3[i][0]\n",
    "\n",
    "        for i in range(len(blank_indices_easy3)):\n",
    "            board_easy3[rows_blank[i], columns_blank[i]] = solution[i]\n",
    "\n",
    "        newpencil = pencil_values(board_easy3)\n",
    "        gene_space_easy3 = list(newpencil.values())\n",
    "    \n",
    "    for i in range(len(rows_blank)):\n",
    "        if solution[i] in board_easy3[rows_blank[i], :]:\n",
    "            fitness -= 1000\n",
    "\n",
    "        if solution[i] in board_easy3[:, columns_blank[i]]:\n",
    "            fitness -= 1000\n",
    "\n",
    "        x = (columns_blank[i] // 3) * 3  \n",
    "        y = (rows_blank[i] // 3) * 3\n",
    "\n",
    "        for a in range(0, 3):\n",
    "            for j in range(0, 3):\n",
    "                if solution[i] == board_easy3[y+a][x+j]:\n",
    "                    fitness -= 1000\n",
    "\n",
    "\n",
    "    fitness += 100\n",
    "    return fitness    \n",
    "        "
   ]
  },
  {
   "cell_type": "code",
   "execution_count": 41,
   "id": "bb4b02b4",
   "metadata": {},
   "outputs": [],
   "source": [
    "gene_space_medium1 = list(pencil_medium1.values())\n",
    "\n",
    "\n",
    "def fitness_func_medium1_method2(solution, solution_idx):\n",
    "    global pencil_medium1\n",
    "    global board_medium1\n",
    "    global gene_space_medium1\n",
    "    global blank_indices_medium1\n",
    "    rows_blank = blank_indices_medium1[:, 0]\n",
    "    columns_blank = blank_indices_medium1[:, 1]\n",
    "    fitness = 0\n",
    "    \n",
    "    for i in range(10):\n",
    "        for i in range(len(gene_space_medium1)): \n",
    "            if len(gene_space_medium1[i]) == 1: \n",
    "                solution[i] = gene_space_medium1[i][0]\n",
    "        for i in range(len(blank_indices_medium1)):\n",
    "            board_medium1[rows_blank[i], columns_blank[i]] = solution[i]\n",
    "\n",
    "        newpencil = pencil_values(board_medium1)\n",
    "        gene_space_medium1 = list(newpencil.values())\n",
    "\n",
    "                \n",
    "    \n",
    "    for i in range(len(rows_blank)):\n",
    "        if solution[i] in board_medium1[rows_blank[i], :]:\n",
    "            fitness -= 1000\n",
    "\n",
    "        if solution[i] in board_medium1[:, columns_blank[i]]:\n",
    "            fitness -= 1000\n",
    "\n",
    "        x = (columns_blank[i] // 3) * 3  \n",
    "        y = (rows_blank[i] // 3) * 3\n",
    "\n",
    "        for a in range(0, 3):\n",
    "            for j in range(0, 3):\n",
    "                if solution[i] == board_medium1[y+a][x+j]:\n",
    "                    fitness -= 1000\n",
    "\n",
    "\n",
    "    fitness += 100\n",
    "    return fitness    \n",
    "        \n",
    "        \n",
    "    \n",
    "    \n"
   ]
  },
  {
   "cell_type": "code",
   "execution_count": 42,
   "id": "7d6cc435",
   "metadata": {},
   "outputs": [],
   "source": [
    "gene_space_medium2 = list(pencil_medium2.values())\n",
    "\n",
    "\n",
    "def fitness_func_medium2_method2(solution, solution_idx):\n",
    "    global pencil_medium2\n",
    "    global board_medium2\n",
    "    global gene_space_medium2\n",
    "    global blank_indices_medium2\n",
    "    rows_blank = blank_indices_medium2[:, 0]\n",
    "    columns_blank = blank_indices_medium2[:, 1]\n",
    "    fitness = 0\n",
    "    \n",
    "    for i in range(10):\n",
    "        for i in range(len(gene_space_medium2)): \n",
    "            if len(gene_space_medium2[i]) == 1: \n",
    "                solution[i] = gene_space_medium2[i][0]\n",
    "        for i in range(len(blank_indices_medium2)):\n",
    "            board_medium2[rows_blank[i], columns_blank[i]] = solution[i]\n",
    "\n",
    "        newpencil = pencil_values(board_medium2)\n",
    "        gene_space_medium2 = list(newpencil.values())\n",
    "\n",
    "                \n",
    "    \n",
    "    for i in range(len(rows_blank)):\n",
    "        if solution[i] in board_medium2[rows_blank[i], :]:\n",
    "            fitness -= 1000\n",
    "\n",
    "        if solution[i] in board_medium2[:, columns_blank[i]]:\n",
    "            fitness -= 1000\n",
    "\n",
    "        x = (columns_blank[i] // 3) * 3  \n",
    "        y = (rows_blank[i] // 3) * 3\n",
    "\n",
    "        for a in range(0, 3):\n",
    "            for j in range(0, 3):\n",
    "                if solution[i] == board_medium2[y+a][x+j]:\n",
    "                    fitness -= 1000\n",
    "\n",
    "\n",
    "    fitness += 100\n",
    "    return fitness    \n",
    "        \n",
    "        \n",
    "    \n",
    "    \n"
   ]
  },
  {
   "cell_type": "code",
   "execution_count": 43,
   "id": "45aacb66",
   "metadata": {},
   "outputs": [],
   "source": [
    "gene_space_medium3 = list(pencil_medium3.values())\n",
    "\n",
    "\n",
    "def fitness_func_medium3_method2(solution, solution_idx):\n",
    "    global pencil_medium3\n",
    "    global board_medium3\n",
    "    global gene_space_medium3\n",
    "    global blank_indices_medium3\n",
    "    rows_blank = blank_indices_medium3[:, 0]\n",
    "    columns_blank = blank_indices_medium3[:, 1]\n",
    "    fitness = 0\n",
    "    \n",
    "    for i in range(10):\n",
    "        for i in range(len(gene_space_medium3)): \n",
    "            if len(gene_space_medium3[i]) == 1: \n",
    "                solution[i] = gene_space_medium3[i][0]\n",
    "        for i in range(len(blank_indices_medium3)):\n",
    "            board_medium3[rows_blank[i], columns_blank[i]] = solution[i]\n",
    "\n",
    "        newpencil = pencil_values(board_medium3)\n",
    "        gene_space_medium3 = list(newpencil.values())\n",
    "\n",
    "                \n",
    "    \n",
    "    for i in range(len(rows_blank)):\n",
    "        if solution[i] in board_medium3[rows_blank[i], :]:\n",
    "            fitness -= 1000\n",
    "\n",
    "        if solution[i] in board_medium3[:, columns_blank[i]]:\n",
    "            fitness -= 1000\n",
    "\n",
    "        x = (columns_blank[i] // 3) * 3  \n",
    "        y = (rows_blank[i] // 3) * 3\n",
    "\n",
    "        for a in range(0, 3):\n",
    "            for j in range(0, 3):\n",
    "                if solution[i] == board_medium3[y+a][x+j]:\n",
    "                    fitness -= 1000\n",
    "\n",
    "\n",
    "    fitness += 100\n",
    "    return fitness    \n",
    "        \n",
    "        \n",
    "    \n",
    "    \n"
   ]
  },
  {
   "cell_type": "code",
   "execution_count": 44,
   "id": "3e877d86",
   "metadata": {},
   "outputs": [],
   "source": [
    "gene_space_hard1 = list(pencil_hard1.values())\n",
    "\n",
    "\n",
    "def fitness_func_hard1_method2(solution, solution_idx):\n",
    "    global pencil_hard1\n",
    "    global board_hard1\n",
    "    global gene_space_hard1\n",
    "    global blank_indices_hard1\n",
    "    rows_blank = blank_indices_hard1[:, 0]\n",
    "    columns_blank = blank_indices_hard1[:, 1]\n",
    "    fitness = 0\n",
    "    \n",
    "    for i in range(10):\n",
    "        for i in range(len(gene_space_hard1)): \n",
    "            if len(gene_space_hard1[i]) == 1: \n",
    "                solution[i] = gene_space_hard1[i][0]\n",
    "        for i in range(len(blank_indices_hard1)):\n",
    "            board_hard1[rows_blank[i], columns_blank[i]] = solution[i]\n",
    "\n",
    "        newpencil = pencil_values(board_hard1)\n",
    "        gene_space_hard1 = list(newpencil.values())\n",
    "\n",
    "                \n",
    "    \n",
    "    for i in range(len(rows_blank)):\n",
    "        if solution[i] in board_hard1[rows_blank[i], :]:\n",
    "            fitness -= 1000\n",
    "\n",
    "        if solution[i] in board_hard1[:, columns_blank[i]]:\n",
    "            fitness -= 1000\n",
    "\n",
    "        x = (columns_blank[i] // 3) * 3  \n",
    "        y = (rows_blank[i] // 3) * 3\n",
    "\n",
    "        for a in range(0, 3):\n",
    "            for j in range(0, 3):\n",
    "                if solution[i] == board_hard1[y+a][x+j]:\n",
    "                    fitness -= 1000\n",
    "\n",
    "\n",
    "    fitness += 100\n",
    "    return fitness    \n",
    "        \n",
    "        \n",
    "    \n",
    "    \n"
   ]
  },
  {
   "cell_type": "code",
   "execution_count": 45,
   "id": "d0564195",
   "metadata": {},
   "outputs": [],
   "source": [
    "gene_space_hard2 = list(pencil_hard2.values())\n",
    "\n",
    "\n",
    "def fitness_func_hard2_method2(solution, solution_idx):\n",
    "    global pencil_hard2\n",
    "    global board_hard2\n",
    "    global gene_space_hard2\n",
    "    global blank_indices_hard2\n",
    "    rows_blank = blank_indices_hard2[:, 0]\n",
    "    columns_blank = blank_indices_hard2[:, 1]\n",
    "    fitness = 0\n",
    "    \n",
    "    for i in range(10):\n",
    "        for i in range(len(gene_space_hard2)): \n",
    "            if len(gene_space_hard2[i]) == 1: \n",
    "                solution[i] = gene_space_hard2[i][0]\n",
    "        for i in range(len(blank_indices_hard2)):\n",
    "            board_hard1[rows_blank[i], columns_blank[i]] = solution[i]\n",
    "\n",
    "        newpencil = pencil_values(board_hard2)\n",
    "        gene_space_hard2 = list(newpencil.values())\n",
    "\n",
    "                \n",
    "    \n",
    "    for i in range(len(rows_blank)):\n",
    "        if solution[i] in board_hard2[rows_blank[i], :]:\n",
    "            fitness -= 1000\n",
    "\n",
    "        if solution[i] in board_hard2[:, columns_blank[i]]:\n",
    "            fitness -= 1000\n",
    "\n",
    "        x = (columns_blank[i] // 3) * 3  \n",
    "        y = (rows_blank[i] // 3) * 3\n",
    "\n",
    "        for a in range(0, 3):\n",
    "            for j in range(0, 3):\n",
    "                if solution[i] == board_hard2[y+a][x+j]:\n",
    "                    fitness -= 1000\n",
    "\n",
    "\n",
    "    fitness += 100\n",
    "    return fitness    \n",
    "        \n",
    "        \n",
    "    \n",
    "    \n"
   ]
  },
  {
   "cell_type": "code",
   "execution_count": 46,
   "id": "4c7267f0",
   "metadata": {},
   "outputs": [],
   "source": [
    "gene_space_hard3 = list(pencil_hard3.values())\n",
    "\n",
    "\n",
    "def fitness_func_hard3_method2(solution, solution_idx):\n",
    "    global pencil_hard3\n",
    "    global board_hard3\n",
    "    global gene_space_hard3\n",
    "    global blank_indices_hard3\n",
    "    rows_blank = blank_indices_hard3[:, 0]\n",
    "    columns_blank = blank_indices_hard3[:, 1]\n",
    "    fitness = 0\n",
    "    \n",
    "    for i in range(10):\n",
    "        for i in range(len(gene_space_hard3)): \n",
    "            if len(gene_space_hard3[i]) == 1: \n",
    "                solution[i] = gene_space_hard3[i][0]\n",
    "        for i in range(len(blank_indices_hard3)):\n",
    "            board_hard3[rows_blank[i], columns_blank[i]] = solution[i]\n",
    "\n",
    "        newpencil = pencil_values(board_hard3)\n",
    "        gene_space_hard3 = list(newpencil.values())\n",
    "\n",
    "                \n",
    "    \n",
    "    for i in range(len(rows_blank)):\n",
    "        if solution[i] in board_hard3[rows_blank[i], :]:\n",
    "            fitness -= 1000\n",
    "\n",
    "        if solution[i] in board_hard3[:, columns_blank[i]]:\n",
    "            fitness -= 1000\n",
    "\n",
    "        x = (columns_blank[i] // 3) * 3  \n",
    "        y = (rows_blank[i] // 3) * 3\n",
    "\n",
    "        for a in range(0, 3):\n",
    "            for j in range(0, 3):\n",
    "                if solution[i] == board_hard3[y+a][x+j]:\n",
    "                    fitness -= 1000\n",
    "\n",
    "\n",
    "    fitness += 100\n",
    "    return fitness    \n",
    "        \n",
    "        \n",
    "    \n",
    "    \n"
   ]
  },
  {
   "cell_type": "markdown",
   "id": "6d866b3a",
   "metadata": {},
   "source": [
    "# TEST FOR 100 EASY INPUTS"
   ]
  },
  {
   "cell_type": "code",
   "execution_count": 47,
   "id": "d1e3cd53",
   "metadata": {},
   "outputs": [],
   "source": [
    "bestsol_easy_method2 = []\n",
    "times_easy_method2 = []\n",
    "counts_easy_method2 = []\n",
    "times_perfect_easy_method2 = []\n",
    "\n",
    "for i in range(100):\n",
    "    easy = [fitness_func_easy1_method2, fitness_func_easy2_method2, fitness_func_easy3_method2]\n",
    "\n",
    "    blanks_easy = [blank_indices_easy1, blank_indices_easy2, blank_indices_easy3]\n",
    "\n",
    "    correct_easy = [correct_easy1, correct_easy2, correct_easy3]\n",
    "\n",
    "    gene_space_easy = [list(pencil_easy1.values()), list(pencil_easy2.values()), list(pencil_easy3.values())]\n",
    "    which_input = random.randint(0,2)\n",
    "    gene_space = gene_space_easy[which_input]\n",
    "    fitness_func = easy[which_input]\n",
    "    num_genes = len(blanks_easy[which_input])\n",
    "    cor = correct_easy[which_input]\n",
    "    \n",
    "    ga_instance = pygad.GA(gene_space=gene_space,\n",
    "                       num_generations=10,\n",
    "                       num_parents_mating=100,\n",
    "                       fitness_func=fitness_func,\n",
    "                       sol_per_pop=200,\n",
    "                       num_genes=num_genes,\n",
    "                       parent_selection_type='random',\n",
    "                       keep_parents=4,\n",
    "                       crossover_type='single_point',\n",
    "                       mutation_type='random',\n",
    "                       mutation_percent_genes=8)\n",
    "\n",
    "    start = time.time()\n",
    "    ga_instance.run()\n",
    "    end = time.time()\n",
    "    times_easy_method2.append(end - start)\n",
    "\n",
    "    solution, solution_fitness, solution_idx = ga_instance.best_solution()\n",
    "    bestsol_easy_method2.append(solution)\n",
    "    counts_easy_method2.append((find_common(cor, bestsol_easy_method2[i])/(num_genes))*100)\n",
    "    if counts_easy_method2[i] == 100:\n",
    "        times_perfect_easy_method2.append(times_easy_method2[i])\n",
    "\n",
    "\n",
    "    "
   ]
  },
  {
   "cell_type": "code",
   "execution_count": 48,
   "id": "ae13a8f6",
   "metadata": {},
   "outputs": [
    {
     "data": {
      "text/plain": [
       "92.71111111111111"
      ]
     },
     "execution_count": 48,
     "metadata": {},
     "output_type": "execute_result"
    }
   ],
   "source": [
    "np.mean(counts_easy_method2)"
   ]
  },
  {
   "cell_type": "code",
   "execution_count": 49,
   "id": "2e783d0c",
   "metadata": {},
   "outputs": [
    {
     "data": {
      "text/plain": [
       "[96.0,\n",
       " 93.33333333333333,\n",
       " 88.88888888888889,\n",
       " 100.0,\n",
       " 100.0,\n",
       " 86.66666666666667,\n",
       " 100.0,\n",
       " 83.33333333333334,\n",
       " 90.0,\n",
       " 88.88888888888889]"
      ]
     },
     "execution_count": 49,
     "metadata": {},
     "output_type": "execute_result"
    }
   ],
   "source": [
    "counts_easy_method2"
   ]
  },
  {
   "cell_type": "code",
   "execution_count": 50,
   "id": "2ed020e6",
   "metadata": {},
   "outputs": [
    {
     "data": {
      "text/plain": [
       "1.5555049578348796"
      ]
     },
     "execution_count": 50,
     "metadata": {},
     "output_type": "execute_result"
    }
   ],
   "source": [
    "np.mean(times_perfect_easy_method2)"
   ]
  },
  {
   "cell_type": "markdown",
   "id": "4318e57d",
   "metadata": {},
   "source": [
    "As you can see, the solutions for easy level are much better. At least for now."
   ]
  },
  {
   "cell_type": "markdown",
   "id": "790df67e",
   "metadata": {},
   "source": [
    "# TEST FOR 100 MEDIUM INPUTS"
   ]
  },
  {
   "cell_type": "code",
   "execution_count": 51,
   "id": "46e7f951",
   "metadata": {},
   "outputs": [],
   "source": [
    "bestsol_medium_method2 = []\n",
    "times_medium_method2 = []\n",
    "counts_medium_method2 = []\n",
    "times_perfect_medium_method2 = []\n",
    "\n",
    "for i in range(100):\n",
    "    medium = [fitness_func_medium1_method2, fitness_func_medium2_method2, fitness_func_medium3_method2]\n",
    "\n",
    "    blanks_medium = [blank_indices_medium1, blank_indices_medium2, blank_indices_medium3]\n",
    "\n",
    "    correct_medium = [correct_medium1, correct_medium2, correct_medium3]\n",
    "\n",
    "    gene_space_medium = [list(pencil_medium1.values()), list(pencil_medium2.values()), list(pencil_medium3.values())]\n",
    "    which_input = random.randint(0,2)\n",
    "    gene_space = gene_space_medium[which_input]\n",
    "    fitness_func = medium[which_input]\n",
    "    num_genes = len(blanks_medium[which_input])\n",
    "    cor = correct_medium[which_input]\n",
    "    \n",
    "    ga_instance = pygad.GA(gene_space=gene_space,\n",
    "                       num_generations=10,\n",
    "                       num_parents_mating=100,\n",
    "                       fitness_func=fitness_func,\n",
    "                       sol_per_pop=200,\n",
    "                       num_genes=num_genes,\n",
    "                       parent_selection_type='random',\n",
    "                       keep_parents=4,\n",
    "                       crossover_type='single_point',\n",
    "                       mutation_type='random',\n",
    "                       mutation_percent_genes=8)\n",
    "\n",
    "    start = time.time()\n",
    "    ga_instance.run()\n",
    "    end = time.time()\n",
    "    times_medium_method2.append(end - start)\n",
    "\n",
    "    solution, solution_fitness, solution_idx = ga_instance.best_solution()\n",
    "    bestsol_medium_method2.append(solution)\n",
    "    counts_medium_method2.append((find_common(cor, bestsol_medium_method2[i])/(num_genes))*100)\n",
    "    if counts_medium_method2[i] == 100:\n",
    "        times_perfect_medium_method2.append(times[i])\n",
    "\n",
    "\n",
    "    "
   ]
  },
  {
   "cell_type": "code",
   "execution_count": 52,
   "id": "3e8ef901",
   "metadata": {},
   "outputs": [
    {
     "data": {
      "text/plain": [
       "50.22222222222222"
      ]
     },
     "execution_count": 52,
     "metadata": {},
     "output_type": "execute_result"
    }
   ],
   "source": [
    "np.mean(counts_medium_method2)"
   ]
  },
  {
   "cell_type": "code",
   "execution_count": 53,
   "id": "f2c9bc21",
   "metadata": {},
   "outputs": [
    {
     "data": {
      "text/plain": [
       "[46.666666666666664,\n",
       " 48.888888888888886,\n",
       " 37.77777777777778,\n",
       " 55.55555555555556,\n",
       " 48.888888888888886,\n",
       " 53.333333333333336,\n",
       " 51.11111111111111,\n",
       " 42.22222222222222,\n",
       " 53.333333333333336,\n",
       " 64.44444444444444]"
      ]
     },
     "execution_count": 53,
     "metadata": {},
     "output_type": "execute_result"
    }
   ],
   "source": [
    "counts_medium_method2"
   ]
  },
  {
   "cell_type": "code",
   "execution_count": 54,
   "id": "33dd6169",
   "metadata": {},
   "outputs": [
    {
     "name": "stderr",
     "output_type": "stream",
     "text": [
      "C:\\Users\\Ola Gomulak\\anaconda3\\anaconda\\lib\\site-packages\\numpy\\core\\fromnumeric.py:3432: RuntimeWarning: Mean of empty slice.\n",
      "  return _methods._mean(a, axis=axis, dtype=dtype,\n",
      "C:\\Users\\Ola Gomulak\\anaconda3\\anaconda\\lib\\site-packages\\numpy\\core\\_methods.py:190: RuntimeWarning: invalid value encountered in double_scalars\n",
      "  ret = ret.dtype.type(ret / rcount)\n"
     ]
    },
    {
     "data": {
      "text/plain": [
       "nan"
      ]
     },
     "execution_count": 54,
     "metadata": {},
     "output_type": "execute_result"
    }
   ],
   "source": [
    "np.mean(times_perfect_medium_method2)"
   ]
  },
  {
   "cell_type": "markdown",
   "id": "d5913ceb",
   "metadata": {},
   "source": [
    "Once again impovement is easly spotted but I am far for perfect solution."
   ]
  },
  {
   "cell_type": "markdown",
   "id": "729a543d",
   "metadata": {},
   "source": [
    "# TEST FOR 100 HARD INPUTS"
   ]
  },
  {
   "cell_type": "code",
   "execution_count": 55,
   "id": "a12ef088",
   "metadata": {},
   "outputs": [],
   "source": [
    "bestsol_hard_method2 = []\n",
    "times_hard_method2 = []\n",
    "counts_hard_method2 = []\n",
    "times_perfect_hard_method2 = []\n",
    "\n",
    "for i in range(100):\n",
    "    hard = [fitness_func_hard1_method2, fitness_func_hard2_method2, fitness_func_hard3_method2]\n",
    "\n",
    "    blanks_hard = [blank_indices_hard1, blank_indices_hard2, blank_indices_hard3]\n",
    "\n",
    "    correct_hard = [correct_hard1, correct_hard2, correct_hard3]\n",
    "\n",
    "    gene_space_hard = [list(pencil_hard1.values()), list(pencil_hard2.values()), list(pencil_hard3.values())]\n",
    "    which_input = random.randint(0,2)\n",
    "    gene_space = gene_space_hard[which_input]\n",
    "    fitness_func = hard[which_input]\n",
    "    num_genes = len(blanks_hard[which_input])\n",
    "    cor = correct_hard[which_input]\n",
    "    \n",
    "    ga_instance = pygad.GA(gene_space=gene_space,\n",
    "                       num_generations=10,\n",
    "                       num_parents_mating=100,\n",
    "                       fitness_func=fitness_func,\n",
    "                       sol_per_pop=200,\n",
    "                       num_genes=num_genes,\n",
    "                       parent_selection_type='random',\n",
    "                       keep_parents=4,\n",
    "                       crossover_type='single_point',\n",
    "                       mutation_type='random',\n",
    "                       mutation_percent_genes=8)\n",
    "\n",
    "    start = time.time()\n",
    "    ga_instance.run()\n",
    "    end = time.time()\n",
    "    times_hard_method2.append(end - start)\n",
    "\n",
    "    solution, solution_fitness, solution_idx = ga_instance.best_solution()\n",
    "    bestsol_hard_method2.append(solution)\n",
    "    counts_hard_method2.append((find_common(cor, bestsol_hard_method2[i])/(num_genes))*100)\n",
    "    if counts_hard_method2[i] == 100:\n",
    "        times_perfect_hard_method2.append(times[i])\n",
    "\n",
    "\n",
    "    "
   ]
  },
  {
   "cell_type": "code",
   "execution_count": 56,
   "id": "cde3badd",
   "metadata": {},
   "outputs": [
    {
     "data": {
      "text/plain": [
       "31.631541505491082"
      ]
     },
     "execution_count": 56,
     "metadata": {},
     "output_type": "execute_result"
    }
   ],
   "source": [
    "np.mean(counts_hard_method2)"
   ]
  },
  {
   "cell_type": "code",
   "execution_count": 57,
   "id": "09cfb418",
   "metadata": {},
   "outputs": [
    {
     "data": {
      "text/plain": [
       "17.18475122451782"
      ]
     },
     "execution_count": 57,
     "metadata": {},
     "output_type": "execute_result"
    }
   ],
   "source": [
    "np.mean(times_hard_method2) #Fair warning that average time for one iteration takes 15-30 seconds"
   ]
  },
  {
   "cell_type": "markdown",
   "id": "783ed896",
   "metadata": {},
   "source": [
    "There is slight improvement but not big enough to compensate for the time it takes to run 100 iterations."
   ]
  },
  {
   "cell_type": "markdown",
   "id": "5a1df55c",
   "metadata": {},
   "source": [
    "Below I present a table with collected data as well as corresponding plot."
   ]
  },
  {
   "cell_type": "code",
   "execution_count": 58,
   "id": "1d01d285",
   "metadata": {},
   "outputs": [
    {
     "name": "stdout",
     "output_type": "stream",
     "text": [
      "           ACCURACY  AVERAGE TIME  PERCENT OF PERFECT  AVERAGE TIME OF PERFECT\n",
      "EASY 1    28.466667      1.182528                 0.0                      NaN\n",
      "EASY 2    92.711111      1.803354                30.0                 1.555505\n",
      "MEDIUM 1  20.666667      2.118328                 0.0                      NaN\n",
      "MEDIUM 2  50.222222      3.579345                 0.0                      NaN\n",
      "HARD 1    15.556000      2.421878                 0.0                      NaN\n",
      "HARD 2    31.631542     17.184751                 0.0                      NaN\n"
     ]
    }
   ],
   "source": [
    "data = {\n",
    "  \"ACCURACY\": [np.mean(counts_easy_method1), np.mean(counts_easy_method2), np.mean(counts_medium_method1), np.mean(counts_medium_method2), np.mean(counts_hard_method1), np.mean(counts_hard_method2)],\n",
    "  \"AVERAGE TIME\": [np.mean(times_easy_method1), np.mean(times_easy_method2), np.mean(times_medium_method1), np.mean(times_medium_method2), np.mean(times_hard_method1), np.mean(times_hard_method2)],\n",
    "    \"PERCENT OF PERFECT\": [(len(times_perfect_easy_method1)/len(times_easy_method1))*100, (len(times_perfect_easy_method2)/len(times_easy_method2))*100, (len(times_perfect_medium_method1)/len(times_medium_method1))*100, (len(times_perfect_medium_method2)/len(times_medium_method2))*100, (len(times_perfect_hard_method1)/len(times_hard_method1))*100, (len(times_perfect_hard_method2)/len(times_hard_method2))*100],\n",
    "    \"AVERAGE TIME OF PERFECT\": [np.mean(times_perfect_easy_method1), np.mean(times_perfect_easy_method2), np.mean(times_perfect_medium_method1), np.mean(times_perfect_medium_method2), np.mean(times_perfect_hard_method1), np.mean(times_perfect_hard_method2)]\n",
    "}\n",
    "\n",
    "df = pd.DataFrame(data, index = [\"EASY 1\", \"EASY 2\", \"MEDIUM 1\", \"MEDIUM 2\", \"HARD 1\", \"HARD 2\"])\n",
    "\n",
    "print(df) "
   ]
  },
  {
   "cell_type": "code",
   "execution_count": 59,
   "id": "96ae09e7",
   "metadata": {},
   "outputs": [
    {
     "data": {
      "text/plain": [
       "Text(0.5, 0, 'Iterations')"
      ]
     },
     "execution_count": 59,
     "metadata": {},
     "output_type": "execute_result"
    },
    {
     "data": {
      "image/png": "[encoded data removed]",
      "text/plain": [
       "<Figure size 640x480 with 1 Axes>"
      ]
     },
     "metadata": {},
     "output_type": "display_data"
    }
   ],
   "source": [
    "plt.plot(times_easy_method1, label = \"Easy method 1\")\n",
    "plt.plot(times_easy_method2, label = \"Easy method 2\")\n",
    "plt.plot(times_medium_method1, label = \"Medium method 1\")\n",
    "plt.plot(times_medium_method2, label = \"Medium method 2\")\n",
    "plt.plot(times_hard_method1, label = \"Hard method 1\")\n",
    "plt.legend(bbox_to_anchor=(1, 1), loc=\"upper left\")\n",
    "plt.ylabel(\"Seconds\")\n",
    "plt.xlabel(\"Iterations\")"
   ]
  },
  {
   "cell_type": "code",
   "execution_count": 60,
   "id": "089629db",
   "metadata": {},
   "outputs": [
    {
     "data": {
      "text/plain": [
       "<matplotlib.legend.Legend at 0x2a6eda9ed70>"
      ]
     },
     "execution_count": 60,
     "metadata": {},
     "output_type": "execute_result"
    },
    {
     "data": {
      "image/png": "[encoded data removed]",
      "text/plain": [
       "<Figure size 640x480 with 1 Axes>"
      ]
     },
     "metadata": {},
     "output_type": "display_data"
    }
   ],
   "source": [
    "plt.plot(times_hard_method2, label = \"Hard method2\")\n",
    "plt.legend()"
   ]
  },
  {
   "cell_type": "markdown",
   "id": "001b9e9b",
   "metadata": {},
   "source": [
    "In conclusion, my genetic algorithm works really well for easy sudokus. Medium ones need some work and hard ones are terrible. If I were to write a working code, I don't think I would use GA for the amount of knowledge I have at this moment. The best way to code effitient and fast sudoku solver is by using backtracking which I wasn't able to implement here, at least for now - providing GA library even allows one to implement one. Again, I found little to no information on that matter."
   ]
  },
  {
   "cell_type": "markdown",
   "id": "17e34061",
   "metadata": {},
   "source": [
    "However, I am content that I was able to upgrade my code so that it solves larger amount of correct answers. "
   ]
  }
 ],
 "metadata": {
  "kernelspec": {
   "display_name": "Python 3 (ipykernel)",
   "language": "python",
   "name": "python3"
  },
  "language_info": {
   "codemirror_mode": {
    "name": "ipython",
    "version": 3
   },
   "file_extension": ".py",
   "mimetype": "text/x-python",
   "name": "python",
   "nbconvert_exporter": "python",
   "pygments_lexer": "ipython3",
   "version": "3.10.9"
  }
 },
 "nbformat": 4,
 "nbformat_minor": 5
}
